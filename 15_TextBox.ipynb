{
 "cells": [
  {
   "cell_type": "markdown",
   "metadata": {},
   "source": [
    "# Text Box"
   ]
  },
  {
   "cell_type": "code",
   "execution_count": 1,
   "metadata": {},
   "outputs": [],
   "source": [
    "from tkinter import *"
   ]
  },
  {
   "cell_type": "markdown",
   "metadata": {},
   "source": [
    "#### Text box creation"
   ]
  },
  {
   "cell_type": "code",
   "execution_count": 3,
   "metadata": {},
   "outputs": [],
   "source": [
    "root = Tk()\n",
    "root.geometry(\"600x300\")\n",
    "\n",
    "# Text Box Creation\n",
    "# text field will be visible with 2 lines and max 10 character per line. Above 10 characters will be visible at next line. \n",
    "# But it doesn't mean this is the limit for text box.\n",
    "# we can add as much as lines and characters. But it will not be visible on screen\n",
    "textbox_obj = Text(height=2, width=10)  # Text box Object\n",
    "textbox_obj.grid()  # Placing text box on screen\n",
    "\n",
    "# Inserting Lines in Text Box\n",
    "textbox_obj.insert(INSERT, \"abcdefghijklmnop\\n\")\n",
    "textbox_obj.insert(INSERT, \"XYZ\\n\")\n",
    "textbox_obj.insert(INSERT, \"123456890\\n\")\n",
    "\n",
    "root.mainloop()"
   ]
  },
  {
   "cell_type": "markdown",
   "metadata": {},
   "source": [
    "#### Get all lines from Text Box"
   ]
  },
  {
   "cell_type": "code",
   "execution_count": 5,
   "metadata": {},
   "outputs": [
    {
     "name": "stdout",
     "output_type": "stream",
     "text": [
      "abcdefghijklmnop\n",
      "XYZ\n",
      "123456890\n",
      "\n",
      "abcdefghijklmnop\n",
      "XYZ\n",
      "123456890\n",
      "Rajarshi\n",
      "Debarshi\n"
     ]
    }
   ],
   "source": [
    "root = Tk()\n",
    "root.geometry(\"600x300\")\n",
    "\n",
    "textbox_obj = Text(height=2, width=10)  # Text box Object\n",
    "textbox_obj.grid()  # Placing text box on screen\n",
    "\n",
    "# Inserting Lines in Text Box\n",
    "textbox_obj.insert(INSERT, \"abcdefghijklmnop\\n\")\n",
    "textbox_obj.insert(INSERT, \"XYZ\\n\")\n",
    "textbox_obj.insert(INSERT, \"123456890\\n\")\n",
    "\n",
    "# Creating a button which will retrieve info from TextBox\n",
    "# First Argument => 1.0 => From Very First Character\n",
    "# SEcond Argument => end-1c => To most Last Character\n",
    "Button(text=\"Get Info\", command=lambda: show_info_from_textbox(textbox_obj.get(\"1.0\", \"end-1c\"))).grid()\n",
    "\n",
    "# Defining function to show info\n",
    "def show_info_from_textbox(text_lines):\n",
    "    print(text_lines)\n",
    "\n",
    "root.mainloop()"
   ]
  },
  {
   "cell_type": "markdown",
   "metadata": {},
   "source": [
    "#### Create Empty Text Box. Take User Input. Display Information"
   ]
  },
  {
   "cell_type": "code",
   "execution_count": 6,
   "metadata": {},
   "outputs": [
    {
     "name": "stdout",
     "output_type": "stream",
     "text": [
      "Empty Text Box created\n",
      "Adding Few Lines\n",
      "Adding few more lines\n",
      "Dont want to add anymore\n"
     ]
    }
   ],
   "source": [
    "root = Tk()\n",
    "root.geometry(\"600x300\")\n",
    "\n",
    "textbox_obj = Text(height=3, width=50)  # Text box Object\n",
    "textbox_obj.grid()  # Placing text box on screen\n",
    "\n",
    "# Creating a button which will retrieve info from TextBox\n",
    "Button(text=\"Get Info\", command=lambda: show_info_from_textbox(textbox_obj.get(\"1.0\", \"end-1c\"))).grid()\n",
    "\n",
    "# Defining function to show info\n",
    "def show_info_from_textbox(text_lines):\n",
    "    print(text_lines)\n",
    "\n",
    "root.mainloop()"
   ]
  },
  {
   "cell_type": "markdown",
   "metadata": {},
   "source": [
    "#### Delete lines from Text Field"
   ]
  },
  {
   "cell_type": "code",
   "execution_count": 7,
   "metadata": {},
   "outputs": [
    {
     "name": "stdout",
     "output_type": "stream",
     "text": [
      "ABCDEFG\n",
      "IJK\n",
      "LMO\n",
      "\n",
      "ABCDEFG\n",
      "12345\n"
     ]
    }
   ],
   "source": [
    "root = Tk()\n",
    "root.geometry(\"600x300\")\n",
    "\n",
    "textbox_obj = Text(height=3, width=50)  # Text box Object\n",
    "textbox_obj.grid()  # Placing text box on screen\n",
    "\n",
    "# Creating a button which will retrieve info from TextBox\n",
    "Button(text=\"Get Info\", command=lambda: show_info_from_textbox(textbox_obj.get(\"1.0\", \"end-1c\"))).grid()\n",
    "# Creating a button which will remove all info from TextBox\n",
    "Button(text=\"Clear Text Field\", command=lambda: clear_text()).grid()\n",
    "\n",
    "# Defining function to show info\n",
    "def show_info_from_textbox(text_lines):\n",
    "    print(text_lines)\n",
    "    \n",
    "# Defining function to remove info\n",
    "def clear_text():\n",
    "    textbox_obj.delete(\"1.0\", END)  # Remove from very first character to till END\n",
    "\n",
    "root.mainloop()"
   ]
  },
  {
   "cell_type": "code",
   "execution_count": null,
   "metadata": {},
   "outputs": [],
   "source": []
  }
 ],
 "metadata": {
  "kernelspec": {
   "display_name": "Python 3",
   "language": "python",
   "name": "python3"
  },
  "language_info": {
   "codemirror_mode": {
    "name": "ipython",
    "version": 3
   },
   "file_extension": ".py",
   "mimetype": "text/x-python",
   "name": "python",
   "nbconvert_exporter": "python",
   "pygments_lexer": "ipython3",
   "version": "3.7.6"
  }
 },
 "nbformat": 4,
 "nbformat_minor": 4
}
