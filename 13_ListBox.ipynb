{
 "cells": [
  {
   "cell_type": "markdown",
   "metadata": {},
   "source": [
    "# ListBox"
   ]
  },
  {
   "cell_type": "code",
   "execution_count": 1,
   "metadata": {},
   "outputs": [],
   "source": [
    "from tkinter import *"
   ]
  },
  {
   "cell_type": "markdown",
   "metadata": {},
   "source": [
    "#### ListBox Creation"
   ]
  },
  {
   "cell_type": "code",
   "execution_count": 4,
   "metadata": {},
   "outputs": [],
   "source": [
    "root = Tk()\n",
    "root.geometry(\"600x300\")\n",
    "\n",
    "Label(text=\"LISTBOX\", fg=\"green\").grid()\n",
    "\n",
    "# Empty Listbox Creation\n",
    "listbox_obj = Listbox() # List Box Object\n",
    "listbox_obj.grid()  # Placing Empty List box on SCreen\n",
    "\n",
    "# Appending First Element. Appending means inserting at END\n",
    "listbox_obj.insert(END, \"Item_1\") # END => Insert at END\n",
    "\n",
    "# Appending Second Element. Appending means inserting at END\n",
    "listbox_obj.insert(END, \"Item_2\") # END => Insert at END\n",
    "\n",
    "root.mainloop()"
   ]
  },
  {
   "cell_type": "markdown",
   "metadata": {},
   "source": [
    "#### Add Item Dynamically"
   ]
  },
  {
   "cell_type": "code",
   "execution_count": 6,
   "metadata": {},
   "outputs": [],
   "source": [
    "root = Tk()\n",
    "root.geometry(\"600x300\")\n",
    "\n",
    "Label(text=\"LISTBOX\", fg=\"green\").grid()\n",
    "\n",
    "# Empty Listbox Creation\n",
    "listbox_obj = Listbox() # List Box Object\n",
    "listbox_obj.grid()  # Placing Empty List box on SCreen\n",
    "\n",
    "# Creating a Button to Add Item\n",
    "Button(text=\"Add Item\", command=lambda: add_item_to_Listbox()).grid()\n",
    "\n",
    "# Defining a function to append Item in Listbox\n",
    "count = 0 # GLobal Variable\n",
    "def add_item_to_Listbox():\n",
    "    global count\n",
    "    count += 1\n",
    "    listbox_obj.insert(END, f\"Item_{count}\")\n",
    "\n",
    "root.mainloop()"
   ]
  },
  {
   "cell_type": "markdown",
   "metadata": {},
   "source": [
    "#### Add Item before ACTIVE Item"
   ]
  },
  {
   "cell_type": "markdown",
   "metadata": {},
   "source": [
    "New Item will be Added before Last Active Item"
   ]
  },
  {
   "cell_type": "markdown",
   "metadata": {},
   "source": [
    "In A Empty Listbox. First Item Inserted. First Item Become last Active Item as no other Item is present.<br>Second Item Inserted. As First Item is last active One, Second Item will be inserted before First Item.<br>Third Item Inserted. As First Item is still last active One, Third Item will be inserted before First Item.<br> Select Third Item. Now It become Last active Item.<br>Fourth Item inserted. As now Third Item is the last Active. Fourth Item wil be inserted before Third Item."
   ]
  },
  {
   "cell_type": "code",
   "execution_count": 8,
   "metadata": {},
   "outputs": [],
   "source": [
    "root = Tk()\n",
    "root.geometry(\"600x300\")\n",
    "\n",
    "Label(text=\"LISTBOX\", fg=\"green\").grid()\n",
    "\n",
    "# Empty Listbox Creation\n",
    "listbox_obj = Listbox() # List Box Object\n",
    "listbox_obj.grid()  # Placing Empty List box on SCreen\n",
    "\n",
    "# Creating a Button to Add Item\n",
    "Button(text=\"Add Item\", command=lambda: add_item_to_Listbox()).grid()\n",
    "\n",
    "# Defining a function to append Item in Listbox\n",
    "count = 0 # GLobal Variable\n",
    "def add_item_to_Listbox():\n",
    "    global count\n",
    "    count += 1\n",
    "    listbox_obj.insert(ACTIVE, f\"Item_{count}\")\n",
    "\n",
    "root.mainloop()"
   ]
  },
  {
   "cell_type": "code",
   "execution_count": null,
   "metadata": {},
   "outputs": [],
   "source": []
  }
 ],
 "metadata": {
  "kernelspec": {
   "display_name": "Python 3",
   "language": "python",
   "name": "python3"
  },
  "language_info": {
   "codemirror_mode": {
    "name": "ipython",
    "version": 3
   },
   "file_extension": ".py",
   "mimetype": "text/x-python",
   "name": "python",
   "nbconvert_exporter": "python",
   "pygments_lexer": "ipython3",
   "version": "3.7.6"
  }
 },
 "nbformat": 4,
 "nbformat_minor": 4
}
