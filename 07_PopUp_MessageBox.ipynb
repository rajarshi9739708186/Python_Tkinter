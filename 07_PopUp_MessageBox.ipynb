{
 "cells": [
  {
   "cell_type": "markdown",
   "metadata": {},
   "source": [
    "# Pop Up Messagebox"
   ]
  },
  {
   "cell_type": "code",
   "execution_count": 1,
   "metadata": {},
   "outputs": [],
   "source": [
    "from tkinter import *"
   ]
  },
  {
   "cell_type": "code",
   "execution_count": 2,
   "metadata": {},
   "outputs": [],
   "source": [
    "import tkinter.messagebox as tmsg #Package for Message Box"
   ]
  },
  {
   "cell_type": "markdown",
   "metadata": {},
   "source": [
    "#### Create MessageBox"
   ]
  },
  {
   "cell_type": "code",
   "execution_count": 5,
   "metadata": {},
   "outputs": [],
   "source": [
    "root = Tk()\n",
    "root.geometry(\"600x300\")\n",
    "\n",
    "Label(text=\"Click on Submit without providing Name\", fg=\"red\").grid()\n",
    "\n",
    "Label(text=\"Name\").grid(row=1, column=0)\n",
    "name_var = StringVar()\n",
    "Entry(textvariable=name_var).grid(row=1, column=1)\n",
    "\n",
    "Button(text=\"submit\", command=lambda: show_messagebox(name_var.get())).grid()\n",
    "\n",
    "def show_messagebox(name):\n",
    "    if name == \"\":\n",
    "        tmsg.showinfo(\"ERROR\", \"Please Enter Name\") # 1st Argument => TITLE ; 2nd Argument => Message Info\n",
    "\n",
    "root.mainloop()"
   ]
  },
  {
   "cell_type": "code",
   "execution_count": null,
   "metadata": {},
   "outputs": [],
   "source": []
  }
 ],
 "metadata": {
  "kernelspec": {
   "display_name": "Python 3",
   "language": "python",
   "name": "python3"
  },
  "language_info": {
   "codemirror_mode": {
    "name": "ipython",
    "version": 3
   },
   "file_extension": ".py",
   "mimetype": "text/x-python",
   "name": "python",
   "nbconvert_exporter": "python",
   "pygments_lexer": "ipython3",
   "version": "3.7.6"
  }
 },
 "nbformat": 4,
 "nbformat_minor": 4
}
