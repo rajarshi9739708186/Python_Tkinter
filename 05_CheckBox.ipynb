{
 "cells": [
  {
   "cell_type": "markdown",
   "metadata": {},
   "source": [
    "# CheckBox"
   ]
  },
  {
   "cell_type": "code",
   "execution_count": 1,
   "metadata": {},
   "outputs": [],
   "source": [
    "from tkinter import *"
   ]
  },
  {
   "cell_type": "markdown",
   "metadata": {},
   "source": [
    "#### Create CheckBox"
   ]
  },
  {
   "cell_type": "code",
   "execution_count": 4,
   "metadata": {},
   "outputs": [],
   "source": [
    "root = Tk()\n",
    "root.geometry(\"600x300\")\n",
    "\n",
    "# Creating First CheckBox\n",
    "sex_var = IntVar()\n",
    "Checkbutton(text=\"Male\", variable= sex_var).grid() # attribute \"variable\" is associated with sex_var\n",
    "\n",
    "# Creating Second CheckBox\n",
    "NRI_var = IntVar()\n",
    "Checkbutton(text=\"NRI\", variable= NRI_var).grid() # attribute \"variable\" is associated with NRI_var\n",
    "\n",
    "root.mainloop()"
   ]
  },
  {
   "cell_type": "markdown",
   "metadata": {},
   "source": [
    "#### Retrieve Values for Checkbox Variables"
   ]
  },
  {
   "cell_type": "markdown",
   "metadata": {},
   "source": [
    "##### Check box Can be Enabled or disabled.<br>So associated variable with that checkbox should be either 0 or 1.<br>0 - Disabled.<br>1 - Enabled"
   ]
  },
  {
   "cell_type": "code",
   "execution_count": 11,
   "metadata": {},
   "outputs": [
    {
     "name": "stdout",
     "output_type": "stream",
     "text": [
      "Sex : 0\n",
      "NRI : 1\n"
     ]
    }
   ],
   "source": [
    "root = Tk()\n",
    "root.geometry(\"600x300\")\n",
    "\n",
    "# Creating First CheckBox\n",
    "sex_var = IntVar()\n",
    "Checkbutton(text=\"Male\", variable= sex_var).grid() # attribute \"variable\" is associated with sex_var\n",
    "\n",
    "# Creating Second CheckBox\n",
    "NRI_var = IntVar()\n",
    "Checkbutton(text=\"NRI\", variable= NRI_var).grid() # attribute \"variable\" is associated with NRI_var\n",
    "\n",
    "# Creating a function to show values\n",
    "def show_checkbox_values(sex_value, NRI_value):\n",
    "    print(f\"Sex : {sex_value}\")\n",
    "    print(f\"NRI : {NRI_value}\")\n",
    "\n",
    "# Creating a button\n",
    "# On click Button, value will be passed into function\n",
    "# variable_name.get() will retrieve value associated with that variable\n",
    "Button(text=\"submit\", command=lambda: show_checkbox_values(sex_var.get(), NRI_var.get())).grid()\n",
    "\n",
    "root.mainloop()"
   ]
  },
  {
   "cell_type": "code",
   "execution_count": null,
   "metadata": {},
   "outputs": [],
   "source": []
  }
 ],
 "metadata": {
  "kernelspec": {
   "display_name": "Python 3",
   "language": "python",
   "name": "python3"
  },
  "language_info": {
   "codemirror_mode": {
    "name": "ipython",
    "version": 3
   },
   "file_extension": ".py",
   "mimetype": "text/x-python",
   "name": "python",
   "nbconvert_exporter": "python",
   "pygments_lexer": "ipython3",
   "version": "3.7.6"
  }
 },
 "nbformat": 4,
 "nbformat_minor": 4
}
