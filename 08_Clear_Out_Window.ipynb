{
 "cells": [
  {
   "cell_type": "markdown",
   "metadata": {},
   "source": [
    "# Clear Out a Window"
   ]
  },
  {
   "cell_type": "code",
   "execution_count": 3,
   "metadata": {},
   "outputs": [],
   "source": [
    "from tkinter import *\n",
    "import tkinter.messagebox as tmsg #Package for Message Box"
   ]
  },
  {
   "cell_type": "code",
   "execution_count": 4,
   "metadata": {},
   "outputs": [],
   "source": [
    "root = Tk()\n",
    "root.geometry(\"600x300\")\n",
    "\n",
    "Label(text=\"Name\").grid(row=1, column=0)\n",
    "name_var = StringVar()\n",
    "Entry(textvariable=name_var).grid(row=1, column=1)\n",
    "\n",
    "Button(text=\"submit\", command=lambda: show_messagebox(name_var.get())).grid()\n",
    "\n",
    "# Delete all widget from Current Window\n",
    "def clear_out_window():\n",
    "    grids = root.grid_slaves()   # All widget object placed by grid()\n",
    "    \n",
    "    for each_grid in grids:\n",
    "        each_grid.destroy()  # destroy() will delete each grid object\n",
    "\n",
    "def show_messagebox(name):\n",
    "    if name == \"\":\n",
    "        tmsg.showinfo(\"ERROR\", \"Please Enter Name\") \n",
    "    else:\n",
    "        clear_out_window() #First Clear Out Current Window\n",
    "        Label(text=f\"Your Name : {name}\", fg=\"green\").grid()  # Then Place New Widget\n",
    "\n",
    "root.mainloop()"
   ]
  },
  {
   "cell_type": "code",
   "execution_count": null,
   "metadata": {},
   "outputs": [],
   "source": []
  }
 ],
 "metadata": {
  "kernelspec": {
   "display_name": "Python 3",
   "language": "python",
   "name": "python3"
  },
  "language_info": {
   "codemirror_mode": {
    "name": "ipython",
    "version": 3
   },
   "file_extension": ".py",
   "mimetype": "text/x-python",
   "name": "python",
   "nbconvert_exporter": "python",
   "pygments_lexer": "ipython3",
   "version": "3.7.6"
  }
 },
 "nbformat": 4,
 "nbformat_minor": 4
}
