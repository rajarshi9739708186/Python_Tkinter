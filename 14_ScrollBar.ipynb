{
 "cells": [
  {
   "cell_type": "markdown",
   "metadata": {},
   "source": [
    "# Attach Scroll Bar With a widget"
   ]
  },
  {
   "cell_type": "code",
   "execution_count": 14,
   "metadata": {},
   "outputs": [],
   "source": [
    "from tkinter import *"
   ]
  },
  {
   "cell_type": "code",
   "execution_count": 16,
   "metadata": {},
   "outputs": [],
   "source": [
    "root = Tk()\n",
    "root.geometry(\"600x300\")\n",
    "\n",
    "Label(text=\"LISTBOX\", fg=\"green\").pack()\n",
    "\n",
    "# Empty Listbox Creation\n",
    "listbox_obj = Listbox() # List Box Object\n",
    "listbox_obj.pack()  # Placing Empty List box on SCreen\n",
    "\n",
    "# Creating a Button to Add Item\n",
    "Button(text=\"Add Item\", command=lambda: add_item_to_Listbox()).pack()\n",
    "\n",
    "# Defining a function to append Item in Listbox\n",
    "count = 0 # GLobal Variable\n",
    "def add_item_to_Listbox():\n",
    "    global count\n",
    "    count += 1\n",
    "    listbox_obj.insert(END, f\"Item_{count}\")\n",
    "    \n",
    "# Creating Scroll Bar\n",
    "scrollbar_obj = Scrollbar()  # Scroll Bar Object\n",
    "scrollbar_obj.pack(side=RIGHT, fill=Y)  # SCrollbar is placed at RIGHT and shall be dragged Vertically\n",
    "scrollbar_obj.config(command=listbox_obj.yview)  # Connecting SCrollbar with Listbox.\n",
    "\n",
    "root.mainloop()"
   ]
  },
  {
   "cell_type": "code",
   "execution_count": null,
   "metadata": {},
   "outputs": [],
   "source": []
  }
 ],
 "metadata": {
  "kernelspec": {
   "display_name": "Python 3",
   "language": "python",
   "name": "python3"
  },
  "language_info": {
   "codemirror_mode": {
    "name": "ipython",
    "version": 3
   },
   "file_extension": ".py",
   "mimetype": "text/x-python",
   "name": "python",
   "nbconvert_exporter": "python",
   "pygments_lexer": "ipython3",
   "version": "3.7.6"
  }
 },
 "nbformat": 4,
 "nbformat_minor": 4
}
