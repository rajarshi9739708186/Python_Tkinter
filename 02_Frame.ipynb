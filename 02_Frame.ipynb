{
 "cells": [
  {
   "cell_type": "code",
   "execution_count": 9,
   "metadata": {},
   "outputs": [],
   "source": [
    "from tkinter import *"
   ]
  },
  {
   "cell_type": "markdown",
   "metadata": {},
   "source": [
    "# Create Frame"
   ]
  },
  {
   "cell_type": "markdown",
   "metadata": {},
   "source": [
    "#### Frame is nothing but you are dividing Main Window into Multiple window. Each Frame will act as a seperate window"
   ]
  },
  {
   "cell_type": "code",
   "execution_count": 10,
   "metadata": {},
   "outputs": [],
   "source": [
    "root = Tk()\n",
    "root.geometry(\"600x300\")\n",
    "\n",
    "frame_1 = Frame() # It will create a frame and object wuill be returned to frame_1\n",
    "frame_1.grid(row=0, column=0) # Placing frmae_1 at ROW=0, COLUMN=0\n",
    "\n",
    "frame_2 = Frame() # It will create a frame and object wuill be returned to frame_2\n",
    "frame_2.grid(row=1, column=0) # Placing frmae_2 at ROW=1, COLUMN=0\n",
    "\n",
    "frame_3 = Frame() # It will create a frame and object wuill be returned to frame_3\n",
    "frame_3.grid(row=2, column=0) # Placing frmae_3 at ROW=2, COLUMN=0\n",
    "\n",
    "# 3 Frames are created. Each Frame will act as seperate window\n",
    "# wee need to use those frame variable names to utilize Frames\n",
    "\n",
    "# you can see below that for each grid ROW=0, COLOUM=0\n",
    "# Because as each frame will act as a seperate window\n",
    "# For each window ROW start from 0 and COLUMN start from 0\n",
    "\n",
    "#Create a label in First Frame\n",
    "# First argument must have to be Frame Variable name where you need to place\n",
    "Label(frame_1, text=\"Creating Label in First Frame\").grid(row=0, column=0) \n",
    "\n",
    "#Create a label in Second Frame\n",
    "# First argument must have to be Frame Variable name where you need to place\n",
    "Label(frame_2, text=\"Creating Label in Second Frame\").grid(row=0, column=0) \n",
    "\n",
    "#Create a label in Third Frame\n",
    "# First argument must have to be Frame Variable name where you need to place\n",
    "Label(frame_3, text=\"Creating Label in Thrird Frame\").grid(row=0, column=0)\n",
    "\n",
    "\n",
    "root.mainloop()"
   ]
  },
  {
   "cell_type": "code",
   "execution_count": null,
   "metadata": {},
   "outputs": [],
   "source": []
  }
 ],
 "metadata": {
  "kernelspec": {
   "display_name": "Python 3",
   "language": "python",
   "name": "python3"
  },
  "language_info": {
   "codemirror_mode": {
    "name": "ipython",
    "version": 3
   },
   "file_extension": ".py",
   "mimetype": "text/x-python",
   "name": "python",
   "nbconvert_exporter": "python",
   "pygments_lexer": "ipython3",
   "version": "3.7.6"
  }
 },
 "nbformat": 4,
 "nbformat_minor": 4
}
