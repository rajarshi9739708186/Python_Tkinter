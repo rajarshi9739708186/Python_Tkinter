{
 "cells": [
  {
   "cell_type": "markdown",
   "metadata": {},
   "source": [
    "# Radio Button"
   ]
  },
  {
   "cell_type": "code",
   "execution_count": 1,
   "metadata": {},
   "outputs": [],
   "source": [
    "from tkinter import *"
   ]
  },
  {
   "cell_type": "markdown",
   "metadata": {},
   "source": [
    "#### Create Radio Button"
   ]
  },
  {
   "cell_type": "code",
   "execution_count": 5,
   "metadata": {},
   "outputs": [],
   "source": [
    "root = Tk()\n",
    "root.geometry(\"600x300\")\n",
    "\n",
    "# A set of Radio Button should be for a Particular Category\n",
    "# Means a set of Radio button should be associated with a single Valriable\n",
    "\n",
    "# Creating Radio Buttons for Drink Type\n",
    "Label(text=\"Which Drink you want?\", fg=\"red\").grid()\n",
    "drink_var = StringVar()\n",
    "drink_var.set(\"Nothing\") # Default set to Nothing. No Radio Button will be selected\n",
    "\n",
    "# Attributes ----\n",
    "# text => Display Name\n",
    "# variable => associated variable\n",
    "# value = > On selection that value will be assigned into varibale drink_var\n",
    "Radiobutton(text=\"Tea\", variable=drink_var, value=\"tea\").grid(sticky=W)\n",
    "Radiobutton(text=\"Coffee\", variable=drink_var, value=\"coffee\").grid(sticky=W)\n",
    "Radiobutton(text=\"Cold Drink\", variable=drink_var, value=\"cold\").grid(sticky=W)\n",
    "\n",
    "# Creating Radio Buttons for Drink Count\n",
    "Label(text=\"How many Drinks do you want?\", fg=\"red\").grid()\n",
    "count_var = IntVar()\n",
    "count_var.set(0) # Default set to 0. No Radio Button will be selected\n",
    "\n",
    "# Attributes ----\n",
    "# text => Display Name\n",
    "# variable => associated variable\n",
    "# value = > On selection that value will be assigned into varibale count_var\n",
    "Radiobutton(text=\"1\", variable=count_var, value=1).grid(sticky=W)\n",
    "Radiobutton(text=\"2\", variable=count_var, value=2).grid(sticky=W)\n",
    "Radiobutton(text=\"3\", variable=count_var, value=3).grid(sticky=W)\n",
    "\n",
    "root.mainloop()"
   ]
  },
  {
   "cell_type": "markdown",
   "metadata": {},
   "source": [
    "#### Retrieve Radio Button Values"
   ]
  },
  {
   "cell_type": "code",
   "execution_count": 10,
   "metadata": {},
   "outputs": [
    {
     "name": "stdout",
     "output_type": "stream",
     "text": [
      "Ordered 0 Nothing\n",
      "Ordered 2 tea\n",
      "Ordered 3 coffee\n",
      "Ordered 1 cold\n"
     ]
    }
   ],
   "source": [
    "root = Tk()\n",
    "root.geometry(\"600x300\")\n",
    "\n",
    "Label(text=\"Which Drink you want?\", fg=\"red\").grid()\n",
    "drink_var = StringVar()\n",
    "drink_var.set(\"Nothing\")\n",
    "Radiobutton(text=\"Tea\", variable=drink_var, value=\"tea\").grid(sticky=W)\n",
    "Radiobutton(text=\"Coffee\", variable=drink_var, value=\"coffee\").grid(sticky=W)\n",
    "Radiobutton(text=\"Cold Drink\", variable=drink_var, value=\"cold\").grid(sticky=W)\n",
    "\n",
    "Label(text=\"How many Drinks do you want?\", fg=\"red\").grid()\n",
    "count_var = IntVar()\n",
    "count_var.set(0)\n",
    "Radiobutton(text=\"1\", variable=count_var, value=1).grid(sticky=W)\n",
    "Radiobutton(text=\"2\", variable=count_var, value=2).grid(sticky=W)\n",
    "Radiobutton(text=\"3\", variable=count_var, value=3).grid(sticky=W)\n",
    "\n",
    "# Defining a function that will handle Radio Button Values\n",
    "def show_radioButton_value(drink, count):\n",
    "    print(f\"Ordered {count} {drink}\")\n",
    "    \n",
    "# Creating Button\n",
    "Button(text=\"submit\", command=lambda: show_radioButton_value(drink_var.get(), count_var.get())).grid()\n",
    "\n",
    "root.mainloop()"
   ]
  },
  {
   "cell_type": "code",
   "execution_count": null,
   "metadata": {},
   "outputs": [],
   "source": []
  }
 ],
 "metadata": {
  "kernelspec": {
   "display_name": "Python 3",
   "language": "python",
   "name": "python3"
  },
  "language_info": {
   "codemirror_mode": {
    "name": "ipython",
    "version": 3
   },
   "file_extension": ".py",
   "mimetype": "text/x-python",
   "name": "python",
   "nbconvert_exporter": "python",
   "pygments_lexer": "ipython3",
   "version": "3.7.6"
  }
 },
 "nbformat": 4,
 "nbformat_minor": 4
}
