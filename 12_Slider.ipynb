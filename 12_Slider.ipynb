{
 "cells": [
  {
   "cell_type": "markdown",
   "metadata": {},
   "source": [
    "# Slider"
   ]
  },
  {
   "cell_type": "code",
   "execution_count": 1,
   "metadata": {},
   "outputs": [],
   "source": [
    "from tkinter import *"
   ]
  },
  {
   "cell_type": "markdown",
   "metadata": {},
   "source": [
    "#### Slider Creation"
   ]
  },
  {
   "cell_type": "code",
   "execution_count": 14,
   "metadata": {},
   "outputs": [],
   "source": [
    "root = Tk()\n",
    "root.geometry(\"600x300\")\n",
    "\n",
    "Label(text=\"What is your age?\", fg=\"green\").grid()\n",
    "\n",
    "# Slider Creation\n",
    "# Attributes ----\n",
    "# from_ => Value Start from\n",
    "# to => Value Upto\n",
    "# length => Length of Slider. Default is 100.\n",
    "# Orient => Horizontaly or Vertically\n",
    "slider_obj = Scale(from_=0, to=30, length=400, orient=HORIZONTAL)\n",
    "slider_obj.grid()\n",
    "\n",
    "root.mainloop()"
   ]
  },
  {
   "cell_type": "markdown",
   "metadata": {},
   "source": [
    "#### Set Default slider to a particular value"
   ]
  },
  {
   "cell_type": "code",
   "execution_count": 10,
   "metadata": {},
   "outputs": [],
   "source": [
    "root = Tk()\n",
    "root.geometry(\"600x300\")\n",
    "\n",
    "Label(text=\"Job Started at which age?\", fg=\"green\").grid()\n",
    "\n",
    "# Slider Creation\n",
    "slider_obj = Scale(from_=0, to=100, length=400, orient=HORIZONTAL)\n",
    "slider_obj.grid()\n",
    "\n",
    "# Default Slider cursor set at 23 assuming Job can be started from age 20\n",
    "slider_obj.set(20)\n",
    "\n",
    "root.mainloop()"
   ]
  },
  {
   "cell_type": "markdown",
   "metadata": {},
   "source": [
    "#### Get Value from Slider"
   ]
  },
  {
   "cell_type": "code",
   "execution_count": 12,
   "metadata": {},
   "outputs": [
    {
     "name": "stdout",
     "output_type": "stream",
     "text": [
      "Your age : 15\n",
      "Your age : 32\n",
      "Your age : 44\n",
      "Your age : 51\n"
     ]
    }
   ],
   "source": [
    "root = Tk()\n",
    "root.geometry(\"600x300\")\n",
    "\n",
    "Label(text=\"What is your age?\", fg=\"green\").grid()\n",
    "\n",
    "# Slider Creation\n",
    "slider_obj = Scale(from_=0, to=100, length=400, orient=HORIZONTAL)\n",
    "slider_obj.grid()\n",
    "slider_obj.set(15)\n",
    "\n",
    "#Button\n",
    "Button(text=\"Get Age\", command=lambda: get_slider_value(slider_obj.get())).grid()\n",
    "\n",
    "# Defining funtion to get value from slider\n",
    "def get_slider_value(age):\n",
    "    print(f\"Your age : {age}\")\n",
    "\n",
    "root.mainloop()"
   ]
  },
  {
   "cell_type": "code",
   "execution_count": null,
   "metadata": {},
   "outputs": [],
   "source": []
  }
 ],
 "metadata": {
  "kernelspec": {
   "display_name": "Python 3",
   "language": "python",
   "name": "python3"
  },
  "language_info": {
   "codemirror_mode": {
    "name": "ipython",
    "version": 3
   },
   "file_extension": ".py",
   "mimetype": "text/x-python",
   "name": "python",
   "nbconvert_exporter": "python",
   "pygments_lexer": "ipython3",
   "version": "3.7.6"
  }
 },
 "nbformat": 4,
 "nbformat_minor": 4
}
