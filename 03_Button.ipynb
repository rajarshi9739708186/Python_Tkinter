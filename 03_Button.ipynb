{
 "cells": [
  {
   "cell_type": "code",
   "execution_count": 1,
   "metadata": {},
   "outputs": [],
   "source": [
    "from tkinter import *"
   ]
  },
  {
   "cell_type": "markdown",
   "metadata": {},
   "source": [
    "# Create Button"
   ]
  },
  {
   "cell_type": "markdown",
   "metadata": {},
   "source": [
    "##### Button always need to be associated with some function. If button is not associated with any function it will do nothing. If button associated with function, on click of that button that function will be executed"
   ]
  },
  {
   "cell_type": "markdown",
   "metadata": {},
   "source": [
    "#### Button not associated with any function"
   ]
  },
  {
   "cell_type": "code",
   "execution_count": 12,
   "metadata": {},
   "outputs": [],
   "source": [
    "root = Tk()\n",
    "root.geometry(\"600x300\")\n",
    "\n",
    "#Creating a Label\n",
    "label_object = Label(text=\"If you click on button nothing will be happened\", padx=5, pady=5)\n",
    "label_object.grid(row=0, column=0)\n",
    "\n",
    "# text ==> Display Name of Button\n",
    "# bg ==> Background color for button\n",
    "# font ==> display text font for button\n",
    "button_object = Button(text=\"Click me\", bg=\"cyan\", font=\"verdana 10 bold\", padx=5, pady=5)\n",
    "button_object.grid(row=1, column=0)\n",
    "\n",
    "root.mainloop()"
   ]
  },
  {
   "cell_type": "markdown",
   "metadata": {},
   "source": [
    "#### Button associated with a function. Function with no Argument"
   ]
  },
  {
   "cell_type": "code",
   "execution_count": 15,
   "metadata": {},
   "outputs": [],
   "source": [
    "root = Tk()\n",
    "root.geometry(\"600x300\")\n",
    "\n",
    "# Creating a Label\n",
    "label_object = Label(text=\"If you click on button Label Text will be changed\", padx=5, pady=5)\n",
    "label_object.grid(row=0, column=0)\n",
    "\n",
    "# creating a function with which button will be associated\n",
    "# while that function will be called Label Test will be changed\n",
    "def change_text():\n",
    "    label_object[\"text\"] = \"As you clicked on Button Text has been changed\"  # change text of Label\n",
    "    label_object[\"fg\"] = \"red\"  # Change color of the Label Text\n",
    "\n",
    "# text ==> Display Name of Button\n",
    "# bg ==> Background color for button\n",
    "# font ==> display text font for button\n",
    "# command ==> assigne with name of the function with which button is associated\n",
    "button_object = Button(text=\"Click me\", bg=\"cyan\", font=\"verdana 10 bold\", padx=5, pady=5, command=change_text)\n",
    "button_object.grid(row=1, column=0)\n",
    "\n",
    "root.mainloop()"
   ]
  },
  {
   "cell_type": "markdown",
   "metadata": {},
   "source": [
    "#### Button associated with a function. Function with Arguments. Argument \"command\" inside Button() will not work as previous"
   ]
  },
  {
   "cell_type": "code",
   "execution_count": 17,
   "metadata": {},
   "outputs": [],
   "source": [
    "root = Tk()\n",
    "root.geometry(\"600x300\")\n",
    "\n",
    "# Creating a Label\n",
    "label_object = Label(text=\"If you click on button Label Text will be changed\", padx=5, pady=5)\n",
    "label_object.grid(row=0, column=0)\n",
    "\n",
    "# creating a function with which button will be associated\n",
    "# while that function will be called Label Test will be changed\n",
    "def change_text(text_passed, color_passed):\n",
    "    label_object[\"text\"] = text_passed  # change text of Label\n",
    "    label_object[\"fg\"] = color_passed  # Change color of the Label Text\n",
    "\n",
    "# text ==> Display Name of Button\n",
    "# bg ==> Background color for button\n",
    "# font ==> display text font for button\n",
    "# command ==> assigne with name of the function with which button is associated\n",
    "button_object = Button(text=\"Click me\", bg=\"cyan\", font=\"verdana 10 bold\", padx=5, pady=5, \n",
    "                       command=lambda : change_text(\"Label Text has been changed\", \"green\"))\n",
    "button_object.grid(row=1, column=0)\n",
    "\n",
    "root.mainloop()"
   ]
  },
  {
   "cell_type": "code",
   "execution_count": null,
   "metadata": {},
   "outputs": [],
   "source": []
  }
 ],
 "metadata": {
  "kernelspec": {
   "display_name": "Python 3",
   "language": "python",
   "name": "python3"
  },
  "language_info": {
   "codemirror_mode": {
    "name": "ipython",
    "version": 3
   },
   "file_extension": ".py",
   "mimetype": "text/x-python",
   "name": "python",
   "nbconvert_exporter": "python",
   "pygments_lexer": "ipython3",
   "version": "3.7.6"
  }
 },
 "nbformat": 4,
 "nbformat_minor": 4
}
