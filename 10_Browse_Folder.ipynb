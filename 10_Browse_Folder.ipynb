{
 "cells": [
  {
   "cell_type": "markdown",
   "metadata": {},
   "source": [
    "# Browse A Folder"
   ]
  },
  {
   "cell_type": "code",
   "execution_count": 2,
   "metadata": {},
   "outputs": [],
   "source": [
    "from tkinter import *"
   ]
  },
  {
   "cell_type": "code",
   "execution_count": 3,
   "metadata": {},
   "outputs": [],
   "source": [
    "from tkinter import filedialog"
   ]
  },
  {
   "cell_type": "code",
   "execution_count": 4,
   "metadata": {},
   "outputs": [
    {
     "name": "stdout",
     "output_type": "stream",
     "text": [
      "G:\\Songs\\Hindi_Song\n"
     ]
    }
   ],
   "source": [
    "root = Tk()\n",
    "root.geometry(\"600x300\")\n",
    "\n",
    "# Creating A Text Field where File Name will be captured/Displayed\n",
    "Text_Field = Text(height=1, width=40)\n",
    "Text_Field.insert(INSERT, \"\")\n",
    "Text_Field.grid(row=0, column=0)\n",
    "\n",
    "# Creating a Button\n",
    "# This button will be associated with a Fuction which will browse a Folder\n",
    "Button(text=\"Browse Folder\", command=lambda: browse_folder(Text_Field)).grid(row=0, column=1)\n",
    "\n",
    "# Function to Browse a File\n",
    "def browse_folder(Text_Field):\n",
    "    folder = filedialog.askdirectory(initialdir = \"/\") #Folder will be opened from C: Drive. Once select the folder, foldername will be captured\n",
    "    folder = folder.replace(\"/\", \"\\\\\", folder.count('/')) # As folder name captured in UNIX format, need to convert name as Windows\n",
    "    Text_Field.delete(\"1.0\", END) # Deleting from Text Field, If anything is alrteady present\n",
    "    Text_Field.insert(INSERT, folder)\n",
    "    \n",
    "# Creting a Button by which we will Extract Folder Name info from Text Field\n",
    "# We must need to Extract Folder Name from Text Field for Further downstream Usage\n",
    "Button(text=\"show folder name\", command=lambda: extract_folder_name(Text_Field.get(\"1.0\", \"end-1c\"))).grid()\n",
    "\n",
    "# Defining function to display File Name\n",
    "def extract_folder_name(folder_name):\n",
    "    print(folder_name)\n",
    "    \n",
    "root.mainloop()"
   ]
  },
  {
   "cell_type": "code",
   "execution_count": null,
   "metadata": {},
   "outputs": [],
   "source": []
  }
 ],
 "metadata": {
  "kernelspec": {
   "display_name": "Python 3",
   "language": "python",
   "name": "python3"
  },
  "language_info": {
   "codemirror_mode": {
    "name": "ipython",
    "version": 3
   },
   "file_extension": ".py",
   "mimetype": "text/x-python",
   "name": "python",
   "nbconvert_exporter": "python",
   "pygments_lexer": "ipython3",
   "version": "3.7.6"
  }
 },
 "nbformat": 4,
 "nbformat_minor": 4
}
