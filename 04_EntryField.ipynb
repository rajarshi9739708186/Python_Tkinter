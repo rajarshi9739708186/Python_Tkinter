{
 "cells": [
  {
   "cell_type": "markdown",
   "metadata": {},
   "source": [
    "# Entry Field"
   ]
  },
  {
   "cell_type": "markdown",
   "metadata": {},
   "source": [
    "##### Four types of entry field classes<br><br>StringVar()<br>IntVar()<br>DoubleVar()<br>BooleanVar()"
   ]
  },
  {
   "cell_type": "code",
   "execution_count": 2,
   "metadata": {},
   "outputs": [],
   "source": [
    "from tkinter import *"
   ]
  },
  {
   "cell_type": "markdown",
   "metadata": {},
   "source": [
    "#### Just Create an Entry FIeld"
   ]
  },
  {
   "cell_type": "code",
   "execution_count": 4,
   "metadata": {},
   "outputs": [],
   "source": [
    "root = Tk()\n",
    "root.geometry(\"600x300\")\n",
    "\n",
    "#Creating a Label\n",
    "Label(text=\"Enter Name\", padx=5, pady=5).grid(row=0, column=0)\n",
    "\n",
    "#Creating A Variable which will hold User Input provided into Entryfield in String Format\n",
    "user_name = StringVar()\n",
    "\n",
    "#Creating Entry Field\n",
    "#textvariable is the Attribute which will point to user_name variable\n",
    "Entry(textvariable = user_name).grid(row=0, column=1)\n",
    "\n",
    "root.mainloop()"
   ]
  },
  {
   "cell_type": "markdown",
   "metadata": {},
   "source": [
    "#### Create a Password field"
   ]
  },
  {
   "cell_type": "code",
   "execution_count": 5,
   "metadata": {},
   "outputs": [],
   "source": [
    "root = Tk()\n",
    "root.geometry(\"600x300\")\n",
    "\n",
    "#### User Name\n",
    "Label(text=\"Login\", padx=5, pady=5).grid(row=0, column=0)\n",
    "login_name = StringVar()\n",
    "Entry(textvariable = login_name).grid(row=0, column=1)\n",
    "\n",
    "#### Password\n",
    "Label(text=\"Password\", padx=5, pady=5).grid(row=1, column=0)\n",
    "password_name = StringVar()\n",
    "Entry(show = \"*\", textvariable = password_name).grid(row=1, column=1)  # show attribute will show character instead of actual value\n",
    "\n",
    "root.mainloop()"
   ]
  },
  {
   "cell_type": "markdown",
   "metadata": {},
   "source": [
    "#### Access Entry Field Values"
   ]
  },
  {
   "cell_type": "code",
   "execution_count": 7,
   "metadata": {},
   "outputs": [
    {
     "name": "stdout",
     "output_type": "stream",
     "text": [
      "Login Name : Rajarshi\n",
      "Password : raharajarshi1089\n"
     ]
    }
   ],
   "source": [
    "root = Tk()\n",
    "root.geometry(\"600x300\")\n",
    "\n",
    "# User Name\n",
    "Label(text=\"Login Name\", padx=5, pady=5).grid(row=0, column=0)\n",
    "login_name = StringVar()\n",
    "Entry(textvariable = login_name).grid(row=0, column=1)\n",
    "\n",
    "# Password\n",
    "Label(text=\"Password\", padx=5, pady=5).grid(row=1, column=0)\n",
    "password_name = StringVar()\n",
    "Entry(show = \"*\", textvariable = password_name).grid(row=1, column=1)\n",
    "\n",
    "# define a function to show values\n",
    "def show_entryfield_values(login_name, password_value):\n",
    "    print(f\"Login Name : {login_name}\")\n",
    "    print(f\"Password : {password_value}\")\n",
    "    \n",
    "# creating a button\n",
    "# On click of button we will pass Entry field values to function \"show_entryfield_values\"\n",
    "# variable_name.get() will retrieve Entry Field Value\n",
    "Button(text=\"Login\", command=lambda: show_entryfield_values(login_name.get(), password_name.get())).grid(row=2, column=0)\n",
    "\n",
    "root.mainloop()"
   ]
  },
  {
   "cell_type": "code",
   "execution_count": null,
   "metadata": {},
   "outputs": [],
   "source": []
  }
 ],
 "metadata": {
  "kernelspec": {
   "display_name": "Python 3",
   "language": "python",
   "name": "python3"
  },
  "language_info": {
   "codemirror_mode": {
    "name": "ipython",
    "version": 3
   },
   "file_extension": ".py",
   "mimetype": "text/x-python",
   "name": "python",
   "nbconvert_exporter": "python",
   "pygments_lexer": "ipython3",
   "version": "3.7.6"
  }
 },
 "nbformat": 4,
 "nbformat_minor": 4
}
