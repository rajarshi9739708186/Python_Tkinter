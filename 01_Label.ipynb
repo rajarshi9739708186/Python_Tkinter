{
 "cells": [
  {
   "cell_type": "code",
   "execution_count": 2,
   "metadata": {},
   "outputs": [],
   "source": [
    "from tkinter import *\n",
    "import time"
   ]
  },
  {
   "cell_type": "markdown",
   "metadata": {},
   "source": [
    "# Create Label"
   ]
  },
  {
   "cell_type": "markdown",
   "metadata": {},
   "source": [
    "#### Label is nothing but some text which you want to display in your window"
   ]
  },
  {
   "cell_type": "code",
   "execution_count": 3,
   "metadata": {},
   "outputs": [],
   "source": [
    "root = Tk()\n",
    "root.geometry(\"600x300\")\n",
    "\n",
    "label_object = Label(text=\"First text\")  # Label() will create this label and it will be returned to variable label_object\n",
    "label_object.grid()  # Until you are placing label wsing grid() function it will not be displayed into window\n",
    "\n",
    "root.mainloop()"
   ]
  },
  {
   "cell_type": "markdown",
   "metadata": {},
   "source": [
    "#### A window is like a excel sheet. It is actualy a combination of ROWs and COLUMNs. You need to place your Label as per your need"
   ]
  },
  {
   "cell_type": "markdown",
   "metadata": {},
   "source": [
    "#### grid() function will set your label in some postion. By default multiple grid() will place your labels in sequential ROWs"
   ]
  },
  {
   "cell_type": "code",
   "execution_count": 4,
   "metadata": {},
   "outputs": [],
   "source": [
    "root = Tk()\n",
    "root.geometry(\"600x300\")\n",
    "\n",
    "label_object_1 = Label(text=\"First text\")  # First Label\n",
    "label_object_1.grid()  # It will be placed ROW = 0, COLUMN = 0\n",
    "\n",
    "label_object_2 = Label(text=\"Second text\")  # Second Label\n",
    "label_object_2.grid()  # It will be placed ROW = 1, COLUMN = 0\n",
    "\n",
    "label_object_3 = Label(text=\"Third text\")  # Third Label\n",
    "label_object_3.grid()  # It will be placed ROW = 2, COLUMN = 0\n",
    "\n",
    "root.mainloop()"
   ]
  },
  {
   "cell_type": "markdown",
   "metadata": {},
   "source": [
    "#### You can assign ROW and COLUMN in grid()"
   ]
  },
  {
   "cell_type": "code",
   "execution_count": 6,
   "metadata": {},
   "outputs": [],
   "source": [
    "root = Tk()\n",
    "root.geometry(\"600x300\")\n",
    "\n",
    "label_object_1 = Label(text=\"First text\")  # First Label\n",
    "label_object_1.grid(row=0, column=0)  # It will be placed ROW = 0, COLUMN = 0\n",
    "\n",
    "label_object_2 = Label(text=\"Second text\")  # Second Label\n",
    "label_object_2.grid(row=1, column=0)  # It will be placed ROW = 1, COLUMN = 0\n",
    "\n",
    "label_object_3 = Label(text=\"Third text\")  # Third Label\n",
    "label_object_3.grid(row=2, column=0)  # It will be placed ROW = 2, COLUMN = 0\n",
    "\n",
    "root.mainloop()"
   ]
  },
  {
   "cell_type": "code",
   "execution_count": 7,
   "metadata": {},
   "outputs": [],
   "source": [
    "root = Tk()\n",
    "root.geometry(\"600x300\")\n",
    "\n",
    "label_object_1 = Label(text=\"First text\")  # First Label\n",
    "label_object_1.grid(row=0, column=0)  # It will be placed ROW = 0, COLUMN = 0\n",
    "\n",
    "label_object_2 = Label(text=\"Second text\")  # Second Label\n",
    "label_object_2.grid(row=0, column=1)  # It will be placed ROW = 0, COLUMN = 1\n",
    "\n",
    "label_object_3 = Label(text=\"Third text\")  # Third Label\n",
    "label_object_3.grid(row=0, column=2)  # It will be placed ROW = 0, COLUMN = 2\n",
    "\n",
    "root.mainloop()"
   ]
  },
  {
   "cell_type": "code",
   "execution_count": null,
   "metadata": {},
   "outputs": [],
   "source": []
  }
 ],
 "metadata": {
  "kernelspec": {
   "display_name": "Python 3",
   "language": "python",
   "name": "python3"
  },
  "language_info": {
   "codemirror_mode": {
    "name": "ipython",
    "version": 3
   },
   "file_extension": ".py",
   "mimetype": "text/x-python",
   "name": "python",
   "nbconvert_exporter": "python",
   "pygments_lexer": "ipython3",
   "version": "3.7.6"
  }
 },
 "nbformat": 4,
 "nbformat_minor": 4
}
