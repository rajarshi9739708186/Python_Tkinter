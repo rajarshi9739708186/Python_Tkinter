{
 "cells": [
  {
   "cell_type": "markdown",
   "metadata": {},
   "source": [
    "# Progress Bar"
   ]
  },
  {
   "cell_type": "code",
   "execution_count": 1,
   "metadata": {},
   "outputs": [],
   "source": [
    "from tkinter import *"
   ]
  },
  {
   "cell_type": "code",
   "execution_count": 2,
   "metadata": {},
   "outputs": [],
   "source": [
    "from tkinter import ttk # Package for Progress Bar Implementation"
   ]
  },
  {
   "cell_type": "code",
   "execution_count": 7,
   "metadata": {},
   "outputs": [],
   "source": [
    "root = Tk()\n",
    "root.geometry(\"600x300\")\n",
    "\n",
    "Label(text=\"Generate number from 1 to 100000\").grid()\n",
    "Button(text=\"Generate\", command=lambda: generate_numbers()).grid()\n",
    "\n",
    "def generate_numbers():\n",
    "    progress_bar = ttk.Progressbar(orient=HORIZONTAL, length=500) # Defining Object for Progress Bar. length defined as 500\n",
    "    progress_bar.grid() # Placing Progress Bar on Screen\n",
    "    \n",
    "    progress_bar[\"maximum\"] = len(range(1,10001)) # Divided progress bar Into Multiple slots. Each slot size = 500/10000\n",
    "    \n",
    "    progress_count = 0\n",
    "    for value in range(1,10001):\n",
    "        progress_count += 1\n",
    "        progress_bar[\"value\"] = progress_count # Blocking slots which has been executed\n",
    "        progress_bar.update() # Filling slots with Green color\n",
    "        \n",
    "root.mainloop()"
   ]
  },
  {
   "cell_type": "code",
   "execution_count": null,
   "metadata": {},
   "outputs": [],
   "source": []
  }
 ],
 "metadata": {
  "kernelspec": {
   "display_name": "Python 3",
   "language": "python",
   "name": "python3"
  },
  "language_info": {
   "codemirror_mode": {
    "name": "ipython",
    "version": 3
   },
   "file_extension": ".py",
   "mimetype": "text/x-python",
   "name": "python",
   "nbconvert_exporter": "python",
   "pygments_lexer": "ipython3",
   "version": "3.7.6"
  }
 },
 "nbformat": 4,
 "nbformat_minor": 4
}
